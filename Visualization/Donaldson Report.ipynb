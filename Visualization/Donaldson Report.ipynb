{
 "cells": [
  {
   "cell_type": "code",
   "execution_count": 1,
   "metadata": {},
   "outputs": [],
   "source": [
    "import pandas as pd\n",
    "import numpy as np\n",
    "import seaborn as sns\n",
    "import matplotlib.pyplot as plt"
   ]
  },
  {
   "cell_type": "code",
   "execution_count": 3,
   "metadata": {},
   "outputs": [],
   "source": [
    "sentiment_analysis = pd.read_csv('/Users/12532/Donaldson-Youtube-Analysis/sentiment_analysis.csv', lineterminator = '\\n')"
   ]
  },
  {
   "cell_type": "code",
   "execution_count": 4,
   "metadata": {},
   "outputs": [
    {
     "name": "stdout",
     "output_type": "stream",
     "text": [
      "    Unnamed: 0  sentiment  compoundValue * likes  video_score\\r\n",
      "0            0     0.4767                 0.0000      90.369329\n",
      "1            1    -0.4019                -2.0095      90.369329\n",
      "2            2     0.7723                10.0399      90.369329\n",
      "3            3     0.9628                 1.9256      90.369329\n",
      "4            4     0.4754                 3.3278      90.369329\n",
      "5            5     0.0000                 0.0000      90.369329\n",
      "6            6     0.5106                 0.5106      90.369329\n",
      "7            7     0.0000                 0.0000      90.369329\n",
      "8            8     0.5562                 1.6686      90.369329\n",
      "9            9     0.4404                 1.7616      90.369329\n",
      "10          10     0.0000                 0.0000      90.369329\n",
      "11          11    -0.5267                -5.7937      90.369329\n",
      "12          12     0.4019                 3.6171      90.369329\n",
      "13          13     0.0000                 0.0000      90.369329\n",
      "14          14     0.4304                 2.5824      90.369329\n",
      "15          15     0.0000                 0.0000      90.369329\n",
      "16          16     0.4201                 1.2603      90.369329\n",
      "17          17     0.6249                 9.3735      90.369329\n",
      "18          18     0.0000                 0.0000      90.369329\n",
      "19          19     0.7964                 1.5928      90.369329\n",
      "20          20     0.6800                 0.6800      90.369329\n",
      "21          21     0.5815                 0.5815      90.369329\n",
      "22          22     0.0000                 0.0000      90.369329\n",
      "23          23    -0.7650                -6.8850      90.369329\n",
      "24          24     0.3960                 1.5840      90.369329\n",
      "25          25    -0.7845                -1.5690      90.369329\n",
      "26          26     0.0000                 0.0000      90.369329\n",
      "27          27     0.7959                 5.5713      90.369329\n",
      "28          28    -0.6981                -0.6981      90.369329\n",
      "29          29    -0.8290                -1.6580      90.369329\n",
      "30          30    -0.5423                -1.6269      90.369329\n",
      "31          31     0.0000                 0.0000      90.369329\n",
      "32          32     0.4738                 4.7380      90.369329\n",
      "33          33     0.1904                 0.7616      90.369329\n",
      "34          34     0.7345                26.4420      90.369329\n",
      "35          35    -0.7906                -2.3718      90.369329\n",
      "36          36     0.1901                 0.9505      90.369329\n",
      "37          37     0.4215                 3.7935      90.369329\n",
      "38          38     0.0000                 0.0000      90.369329\n",
      "39          39    -0.7906                -0.7906      90.369329\n",
      "40          40     0.8070                 3.2280      90.369329\n",
      "41          41     0.4588                 1.3764      90.369329\n",
      "42          42    -0.1531                -0.7655      90.369329\n",
      "43          43     0.8074                 1.6148      90.369329\n",
      "44          44     0.9502                 5.7012      90.369329\n",
      "45          45     0.6369                 3.1845      90.369329\n",
      "46          46     0.0000                 0.0000      90.369329\n",
      "47          47     0.3612                 0.7224      90.369329\n"
     ]
    }
   ],
   "source": [
    "print(sentiment_analysis)"
   ]
  },
  {
   "cell_type": "code",
   "execution_count": 6,
   "metadata": {},
   "outputs": [
    {
     "data": {
      "text/plain": [
       "<matplotlib.axes._subplots.AxesSubplot at 0x2a080621a08>"
      ]
     },
     "execution_count": 6,
     "metadata": {},
     "output_type": "execute_result"
    },
    {
     "data": {
      "image/png": "[encoded data removed]",
      "text/plain": [
       "<Figure size 576x288 with 1 Axes>"
      ]
     },
     "metadata": {
      "needs_background": "light"
     },
     "output_type": "display_data"
    }
   ],
   "source": [
    "plt.figure(figsize=(8, 4))\n",
    "sns.distplot(sentiment_analysis['sentiment'], rug = True, kde = False)"
   ]
  },
  {
   "cell_type": "code",
   "execution_count": null,
   "metadata": {},
   "outputs": [],
   "source": [
    " "
   ]
  }
 ],
 "metadata": {
  "kernelspec": {
   "display_name": "Python 3",
   "language": "python",
   "name": "python3"
  },
  "language_info": {
   "codemirror_mode": {
    "name": "ipython",
    "version": 3
   },
   "file_extension": ".py",
   "mimetype": "text/x-python",
   "name": "python",
   "nbconvert_exporter": "python",
   "pygments_lexer": "ipython3",
   "version": "3.7.6"
  }
 },
 "nbformat": 4,
 "nbformat_minor": 4
}

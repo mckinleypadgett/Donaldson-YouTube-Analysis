{
 "cells": [
  {
   "cell_type": "code",
   "execution_count": 44,
   "metadata": {},
   "outputs": [],
   "source": [
    "import pandas as pd\n",
    "import numpy as np\n",
    "import seaborn as sns\n",
    "from matplotlib import pyplot as plt"
   ]
  },
  {
   "cell_type": "code",
   "execution_count": 49,
   "metadata": {},
   "outputs": [],
   "source": [
    "sentiment_analysis = pd.read_csv('/Users/12532/Donaldson-Youtube-Analysis/sentiment_dict.csv')"
   ]
  },
  {
   "cell_type": "code",
   "execution_count": 50,
   "metadata": {},
   "outputs": [
    {
     "name": "stdout",
     "output_type": "stream",
     "text": [
      "      Unnamed: 0  Positive  Neutral  Negative  Compound\n",
      "0              0      0.00     1.00       0.0      0.00\n",
      "1              1      0.00     1.00       0.0      0.00\n",
      "2              2      0.45     0.55       0.0      0.62\n",
      "3              3      0.34     0.66       0.0      0.77\n",
      "4              4      0.46     0.55       0.0      0.36\n",
      "...          ...       ...      ...       ...       ...\n",
      "8165        8165      0.39     0.61       0.0      0.83\n",
      "8166        8166      0.00     1.00       0.0      0.00\n",
      "8167        8167      0.00     1.00       0.0      0.00\n",
      "8168        8168      0.00     1.00       0.0      0.00\n",
      "8169        8169      0.00     1.00       0.0      0.00\n",
      "\n",
      "[8170 rows x 5 columns]\n"
     ]
    }
   ],
   "source": [
    "print(sentiment_analysis)"
   ]
  },
  {
   "cell_type": "code",
   "execution_count": 54,
   "metadata": {},
   "outputs": [
    {
     "data": {
      "text/html": [
       "<div>\n",
       "<style scoped>\n",
       "    .dataframe tbody tr th:only-of-type {\n",
       "        vertical-align: middle;\n",
       "    }\n",
       "\n",
       "    .dataframe tbody tr th {\n",
       "        vertical-align: top;\n",
       "    }\n",
       "\n",
       "    .dataframe thead th {\n",
       "        text-align: right;\n",
       "    }\n",
       "</style>\n",
       "<table border=\"1\" class=\"dataframe\">\n",
       "  <thead>\n",
       "    <tr style=\"text-align: right;\">\n",
       "      <th></th>\n",
       "      <th>Unnamed: 0</th>\n",
       "      <th>Positive</th>\n",
       "      <th>Neutral</th>\n",
       "      <th>Negative</th>\n",
       "      <th>Compound</th>\n",
       "    </tr>\n",
       "  </thead>\n",
       "  <tbody>\n",
       "    <tr>\n",
       "      <th>0</th>\n",
       "      <td>0</td>\n",
       "      <td>0.00</td>\n",
       "      <td>1.00</td>\n",
       "      <td>0.00</td>\n",
       "      <td>0.00</td>\n",
       "    </tr>\n",
       "    <tr>\n",
       "      <th>1</th>\n",
       "      <td>1</td>\n",
       "      <td>0.00</td>\n",
       "      <td>1.00</td>\n",
       "      <td>0.00</td>\n",
       "      <td>0.00</td>\n",
       "    </tr>\n",
       "    <tr>\n",
       "      <th>2</th>\n",
       "      <td>2</td>\n",
       "      <td>0.45</td>\n",
       "      <td>0.55</td>\n",
       "      <td>0.00</td>\n",
       "      <td>0.62</td>\n",
       "    </tr>\n",
       "    <tr>\n",
       "      <th>3</th>\n",
       "      <td>3</td>\n",
       "      <td>0.34</td>\n",
       "      <td>0.66</td>\n",
       "      <td>0.00</td>\n",
       "      <td>0.77</td>\n",
       "    </tr>\n",
       "    <tr>\n",
       "      <th>4</th>\n",
       "      <td>4</td>\n",
       "      <td>0.46</td>\n",
       "      <td>0.55</td>\n",
       "      <td>0.00</td>\n",
       "      <td>0.36</td>\n",
       "    </tr>\n",
       "  </tbody>\n",
       "</table>\n",
       "</div>"
      ],
      "text/plain": [
       "   Unnamed: 0  Positive  Neutral  Negative  Compound\n",
       "0           0      0.00     1.00      0.00      0.00\n",
       "1           1      0.00     1.00      0.00      0.00\n",
       "2           2      0.45     0.55      0.00      0.62\n",
       "3           3      0.34     0.66      0.00      0.77\n",
       "4           4      0.46     0.55      0.00      0.36"
      ]
     },
     "execution_count": 54,
     "metadata": {},
     "output_type": "execute_result"
    }
   ],
   "source": [
    "sentiment_analysis.head()"
   ]
  },
  {
   "cell_type": "code",
   "execution_count": 55,
   "metadata": {},
   "outputs": [],
   "source": [
    "pd.options.display.float_format = '{:,.2f}'.format"
   ]
  },
  {
   "cell_type": "code",
   "execution_count": 56,
   "metadata": {},
   "outputs": [
    {
     "name": "stdout",
     "output_type": "stream",
     "text": [
      "      Unnamed: 0  Positive  Neutral  Negative  Compound\n",
      "0              0      0.00     1.00      0.00      0.00\n",
      "1              1      0.00     1.00      0.00      0.00\n",
      "2              2      0.45     0.55      0.00      0.62\n",
      "3              3      0.34     0.66      0.00      0.77\n",
      "4              4      0.46     0.55      0.00      0.36\n",
      "...          ...       ...      ...       ...       ...\n",
      "8165        8165      0.39     0.61      0.00      0.83\n",
      "8166        8166      0.00     1.00      0.00      0.00\n",
      "8167        8167      0.00     1.00      0.00      0.00\n",
      "8168        8168      0.00     1.00      0.00      0.00\n",
      "8169        8169      0.00     1.00      0.00      0.00\n",
      "\n",
      "[8170 rows x 5 columns]\n"
     ]
    }
   ],
   "source": [
    "print(sentiment_analysis)"
   ]
  },
  {
   "cell_type": "code",
   "execution_count": 67,
   "metadata": {},
   "outputs": [
    {
     "data": {
      "image/png": "[encoded data removed]",
      "text/plain": [
       "<Figure size 1152x360 with 4 Axes>"
      ]
     },
     "metadata": {
      "needs_background": "light"
     },
     "output_type": "display_data"
    }
   ],
   "source": [
    "fig, axes = plt.subplots(1, 4, figsize=(16, 5), sharey = True)\n",
    "axes[0].hist(sentiment_analysis['Positive'], color=\"skyblue\")\n",
    "axes[1].hist(sentiment_analysis['Neutral'], color=\"olive\")\n",
    "axes[2].hist(sentiment_analysis['Negative'] , color=\"gold\")\n",
    "axes[3].hist(sentiment_analysis['Compound'] , color=\"teal\")\n",
    "\n",
    "axes[0].set(xlabel='Positive')\n",
    "axes[1].set(xlabel='Neutral')\n",
    "axes[2].set(xlabel='Negative')\n",
    "axes[3].set(xlabel='Compound')\n",
    "\n",
    "plt.show()"
   ]
  },
  {
   "cell_type": "code",
   "execution_count": null,
   "metadata": {},
   "outputs": [],
   "source": []
  }
 ],
 "metadata": {
  "kernelspec": {
   "display_name": "Python 3",
   "language": "python",
   "name": "python3"
  },
  "language_info": {
   "codemirror_mode": {
    "name": "ipython",
    "version": 3
   },
   "file_extension": ".py",
   "mimetype": "text/x-python",
   "name": "python",
   "nbconvert_exporter": "python",
   "pygments_lexer": "ipython3",
   "version": "3.7.6"
  }
 },
 "nbformat": 4,
 "nbformat_minor": 4
}
